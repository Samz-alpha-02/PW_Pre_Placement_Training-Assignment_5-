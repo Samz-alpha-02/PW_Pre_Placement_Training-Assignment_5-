{
  "nbformat": 4,
  "nbformat_minor": 0,
  "metadata": {
    "colab": {
      "provenance": []
    },
    "kernelspec": {
      "name": "python3",
      "display_name": "Python 3"
    },
    "language_info": {
      "name": "python"
    }
  },
  "cells": [
    {
      "cell_type": "code",
      "execution_count": 3,
      "metadata": {
        "colab": {
          "base_uri": "https://localhost:8080/"
        },
        "id": "IFsARf96gmg6",
        "outputId": "f9e2665e-4a13-44c8-b598-910e75439313"
      },
      "outputs": [
        {
          "output_type": "stream",
          "name": "stdout",
          "text": [
            "[[1, 2, 3], [4, 5, 6]]\n"
          ]
        }
      ],
      "source": [
        "#Q1\n",
        "def convert_to_2d_array(original, m, n):\n",
        "    length = len(original)\n",
        "    if length != m * n:\n",
        "        return []  # Impossible to construct the 2D array\n",
        "\n",
        "    arr_2d = []\n",
        "    for i in range(m):\n",
        "        row = []\n",
        "        for j in range(n):\n",
        "            index = (i * n)+ j\n",
        "            row.append(original[index])\n",
        "        arr_2d.append(row)\n",
        "\n",
        "    return arr_2d\n",
        "\n",
        "original = [1, 2, 3, 4, 5, 6]\n",
        "m = 2\n",
        "n = 3\n",
        "result = convert_to_2d_array(original, m, n)\n",
        "print(result)\n",
        "\n"
      ]
    },
    {
      "cell_type": "code",
      "source": [
        "#Q2\n",
        "def count_complete_rows(n):\n",
        "    complete_rows = 0\n",
        "    coins = n\n",
        "\n",
        "    for i in range(1, n+1):\n",
        "        coins -= i\n",
        "        if coins >= 0:\n",
        "            complete_rows += 1\n",
        "        else:\n",
        "            break\n",
        "\n",
        "    return complete_rows\n",
        "n = 10\n",
        "result = count_complete_rows(n)\n",
        "print(result)\n"
      ],
      "metadata": {
        "colab": {
          "base_uri": "https://localhost:8080/"
        },
        "id": "bZ33TebhmBv2",
        "outputId": "7611a740-904d-44ea-a65d-9115329ea166"
      },
      "execution_count": 4,
      "outputs": [
        {
          "output_type": "stream",
          "name": "stdout",
          "text": [
            "4\n"
          ]
        }
      ]
    },
    {
      "cell_type": "code",
      "source": [
        "#Q3\n",
        "def square(n):\n",
        "    return n * n\n",
        "\n",
        "arr = [-4, -1, 0, 3, 10]\n",
        "arr_new = [square(i) for i in arr]\n",
        "\n",
        "arr_new.sort()\n",
        "print(arr_new)\n",
        "\n"
      ],
      "metadata": {
        "colab": {
          "base_uri": "https://localhost:8080/"
        },
        "id": "GRHBNEiBxzAu",
        "outputId": "35d23e5a-b5bd-45c3-97bf-9f64d5bf620b"
      },
      "execution_count": 7,
      "outputs": [
        {
          "output_type": "stream",
          "name": "stdout",
          "text": [
            "[0, 1, 9, 16, 100]\n"
          ]
        }
      ]
    },
    {
      "cell_type": "code",
      "source": [
        "#Q4\n",
        "def find_disjoint(nums1, nums2):\n",
        "    set_nums1 = set(nums1)\n",
        "    set_nums2 = set(nums2)\n",
        "\n",
        "    distinct_nums1 = set_nums1 - set_nums2\n",
        "    distinct_nums2 = set_nums2 - set_nums1\n",
        "\n",
        "    return [list(distinct_nums1), list(distinct_nums2)]\n",
        "\n",
        "nums1 = [1, 2, 2, 3, 4]\n",
        "nums2 = [2, 3, 5, 6]\n",
        "result = find_disjoint(nums1, nums2)\n",
        "print(result)\n"
      ],
      "metadata": {
        "colab": {
          "base_uri": "https://localhost:8080/"
        },
        "id": "ROwsjFf_zbKk",
        "outputId": "4eb7924e-f3ed-4c16-ab96-5c9a9ddee1ee"
      },
      "execution_count": 12,
      "outputs": [
        {
          "output_type": "stream",
          "name": "stdout",
          "text": [
            "[[1, 4], [5, 6]]\n"
          ]
        }
      ]
    },
    {
      "cell_type": "code",
      "source": [
        "#Q5\n",
        "arr1=[4,5,8]\n",
        "arr2 = [10,9,1,8]\n",
        "d = 2\n",
        "count=0\n",
        "for i in range(len(arr1)):\n",
        "  for j in range(len(arr2)):\n",
        "    if abs(arr1[i]-arr2[j])<2:\n",
        "      count+=1\n",
        "\n",
        "print(count)"
      ],
      "metadata": {
        "colab": {
          "base_uri": "https://localhost:8080/"
        },
        "id": "1KTYrct46Sin",
        "outputId": "f065294c-1752-4ccd-8997-601e00107346"
      },
      "execution_count": 13,
      "outputs": [
        {
          "output_type": "stream",
          "name": "stdout",
          "text": [
            "2\n"
          ]
        }
      ]
    },
    {
      "cell_type": "code",
      "source": [
        "#Q6\n",
        "def check(nums):\n",
        "  lst=[]\n",
        "  k=0\n",
        "  n=len(nums)\n",
        "  for i in range(n):\n",
        "    k = nums.count(nums[i])\n",
        "    if k==2:\n",
        "      lst.append(nums[i])\n",
        "    k=0\n",
        "  return list(set(lst))\n",
        "\n",
        "nums = [4,3,2,7,8,2,3,1]\n",
        "print(check(nums))"
      ],
      "metadata": {
        "colab": {
          "base_uri": "https://localhost:8080/"
        },
        "id": "aoeqFEip-dF-",
        "outputId": "68a2b484-58a0-4b2c-8c7e-89edd9ffded2"
      },
      "execution_count": 17,
      "outputs": [
        {
          "output_type": "stream",
          "name": "stdout",
          "text": [
            "[2, 3]\n"
          ]
        }
      ]
    },
    {
      "cell_type": "code",
      "source": [
        "#Q7\n",
        "def rotate(nums, n):\n",
        "    left = 0\n",
        "    right = len(nums) - 1\n",
        "\n",
        "    while left < right:\n",
        "        mid = left + (right - left) // 2\n",
        "\n",
        "        if nums[mid] > nums[right]:\n",
        "            left = mid + 1\n",
        "        else:\n",
        "            right = mid\n",
        "\n",
        "    return nums[left]\n",
        "\n",
        "nums = [1, 2, 3, 4, 5]\n",
        "n = 3\n",
        "print(rotate(nums, n))\n",
        "\n",
        "\n",
        ""
      ],
      "metadata": {
        "colab": {
          "base_uri": "https://localhost:8080/"
        },
        "id": "fEvYSbxgAuMb",
        "outputId": "41fb21e0-70b3-4fa6-d0d7-f31976671abd"
      },
      "execution_count": 34,
      "outputs": [
        {
          "output_type": "stream",
          "name": "stdout",
          "text": [
            "1\n"
          ]
        }
      ]
    },
    {
      "cell_type": "code",
      "source": [
        "#Q8\n",
        "def double(changed):\n",
        "  n=len(changed)\n",
        "  k=n//2\n",
        "  lst=[]\n",
        "  original=[]\n",
        "  for i in range(k,n):\n",
        "    lst.append(changed[i])\n",
        "  for i in range(0,k):\n",
        "    if lst[i]==(changed[i]*2):\n",
        "      original.append(changed[i])\n",
        "  return original\n",
        "\n",
        "changed = [1,3,4,2,6,8]\n",
        "print(double(changed))\n"
      ],
      "metadata": {
        "colab": {
          "base_uri": "https://localhost:8080/"
        },
        "id": "FbziGqzlGMOO",
        "outputId": "a5dcd7f5-c7bf-4092-ac57-771668291648"
      },
      "execution_count": 33,
      "outputs": [
        {
          "output_type": "stream",
          "name": "stdout",
          "text": [
            "[1, 3, 4]\n"
          ]
        }
      ]
    }
  ]
}